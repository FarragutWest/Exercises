{
 "cells": [
  {
   "cell_type": "code",
   "execution_count": 1,
   "metadata": {},
   "outputs": [
    {
     "name": "stdout",
     "output_type": "stream",
     "text": [
      "Ross\n"
     ]
    }
   ],
   "source": [
    "names=['Ross','Mlado','Angelina','Astou']\n",
    "print(names[0])"
   ]
  },
  {
   "cell_type": "code",
   "execution_count": 2,
   "metadata": {},
   "outputs": [
    {
     "name": "stdout",
     "output_type": "stream",
     "text": [
      "Astou\n"
     ]
    }
   ],
   "source": [
    "print(names[3])"
   ]
  },
  {
   "cell_type": "code",
   "execution_count": 3,
   "metadata": {},
   "outputs": [
    {
     "name": "stdout",
     "output_type": "stream",
     "text": [
      "Ross is my friend\n"
     ]
    }
   ],
   "source": [
    "print(names[0]+\" is my friend\")"
   ]
  },
  {
   "cell_type": "code",
   "execution_count": 5,
   "metadata": {},
   "outputs": [
    {
     "name": "stdout",
     "output_type": "stream",
     "text": [
      "I would like to own a BMW Motorcycle\n"
     ]
    }
   ],
   "source": [
    "cars=['Aston Martin','Cobra','BMW Motorcycle']\n",
    "print('I would like to own a '+cars[2])"
   ]
  },
  {
   "cell_type": "code",
   "execution_count": 6,
   "metadata": {},
   "outputs": [
    {
     "name": "stdout",
     "output_type": "stream",
     "text": [
      "I would like to invite Shumacher to dinner\n"
     ]
    }
   ],
   "source": [
    "famous_ppl=['Jordan','Shumacher','Ronaldo']\n",
    "print('I would like to invite '+famous_ppl[1]+' to dinner')"
   ]
  },
  {
   "cell_type": "code",
   "execution_count": 7,
   "metadata": {},
   "outputs": [
    {
     "name": "stdout",
     "output_type": "stream",
     "text": [
      "Shumacher can not make it to dinner\n"
     ]
    }
   ],
   "source": [
    "print(famous_ppl[1]+' can not make it to dinner')"
   ]
  },
  {
   "cell_type": "code",
   "execution_count": 8,
   "metadata": {},
   "outputs": [
    {
     "name": "stdout",
     "output_type": "stream",
     "text": [
      "Wynona Ryder is coming for dinner.\n"
     ]
    }
   ],
   "source": [
    "famous_ppl[1]='Wynona Ryder'\n",
    "print(famous_ppl[1]+' is coming for dinner.')"
   ]
  },
  {
   "cell_type": "code",
   "execution_count": 12,
   "metadata": {},
   "outputs": [
    {
     "name": "stdout",
     "output_type": "stream",
     "text": [
      "Hey Jordan, I have a bigger table.\n",
      "Al Pacino is invited to dinner too.\n"
     ]
    }
   ],
   "source": [
    "print('Hey '+famous_ppl[0]+ ', I have a bigger table.')\n",
    "famous_ppl.insert(1,\"Al Pacino\")\n",
    "print(famous_ppl[1]+' is invited to dinner too.')"
   ]
  },
  {
   "cell_type": "code",
   "execution_count": 14,
   "metadata": {},
   "outputs": [
    {
     "name": "stdout",
     "output_type": "stream",
     "text": [
      "I can only have 2 guests for dinner\n",
      "Hey Wynona Ryder we are out of seats.\n",
      "Hey Jordan you are still invited.\n"
     ]
    }
   ],
   "source": [
    "print('I can only have 2 guests for dinner')\n",
    "dropped_ppl=famous_ppl.pop()\n",
    "print(\"Hey \"+dropped_ppl+' we are out of seats.')\n",
    "print(\"Hey \"+famous_ppl[0]+' you are still invited.')"
   ]
  },
  {
   "cell_type": "code",
   "execution_count": 23,
   "metadata": {},
   "outputs": [
    {
     "name": "stdout",
     "output_type": "stream",
     "text": [
      "['Positano', 'Budva', 'Milano', 'Tokyo', 'RSA']\n",
      "['Budva', 'Milano', 'Positano', 'RSA', 'Tokyo']\n",
      "['Positano', 'Budva', 'Milano', 'Tokyo', 'RSA']\n",
      "['Tokyo', 'RSA', 'Positano', 'Milano', 'Budva']\n",
      "['Positano', 'Budva', 'Milano', 'Tokyo', 'RSA']\n",
      "['RSA', 'Tokyo', 'Milano', 'Budva', 'Positano']\n",
      "['Positano', 'Budva', 'Milano', 'Tokyo', 'RSA']\n",
      "['Budva', 'Milano', 'Positano', 'RSA', 'Tokyo']\n"
     ]
    }
   ],
   "source": [
    "favorite_places=['Positano','Budva','Milano','Tokyo','RSA']\n",
    "print(favorite_places)\n",
    "print(sorted(favorite_places))\n",
    "print(favorite_places)\n",
    "print(sorted(favorite_places,reverse=True))\n",
    "print(favorite_places)\n",
    "favorite_places.reverse()\n",
    "print(favorite_places)\n",
    "favorite_places.reverse()\n",
    "print(favorite_places)\n",
    "favorite_places.sort()\n",
    "print(favorite_places)"
   ]
  },
  {
   "cell_type": "code",
   "execution_count": 24,
   "metadata": {},
   "outputs": [
    {
     "data": {
      "text/plain": [
       "5"
      ]
     },
     "execution_count": 24,
     "metadata": {},
     "output_type": "execute_result"
    }
   ],
   "source": [
    "len(favorite_places)"
   ]
  },
  {
   "cell_type": "code",
   "execution_count": null,
   "metadata": {},
   "outputs": [],
   "source": []
  }
 ],
 "metadata": {
  "kernelspec": {
   "display_name": "Python 3",
   "language": "python",
   "name": "python3"
  },
  "language_info": {
   "codemirror_mode": {
    "name": "ipython",
    "version": 3
   },
   "file_extension": ".py",
   "mimetype": "text/x-python",
   "name": "python",
   "nbconvert_exporter": "python",
   "pygments_lexer": "ipython3",
   "version": "3.7.6"
  }
 },
 "nbformat": 4,
 "nbformat_minor": 4
}
